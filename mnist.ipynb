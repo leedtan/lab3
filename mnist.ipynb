{
 "cells": [
  {
   "cell_type": "code",
   "execution_count": 1,
   "metadata": {
    "collapsed": true
   },
   "outputs": [],
   "source": [
    "import torch\n",
    "import pandas as pd, numpy as np, matplotlib, matplotlib.pyplot as plt\n",
    "from torch import nn\n",
    "from torch.nn import init\n",
    "from torch.autograd import Variable"
   ]
  },
  {
   "cell_type": "code",
   "execution_count": 2,
   "metadata": {
    "collapsed": true
   },
   "outputs": [],
   "source": [
    "import torchvision\n"
   ]
  },
  {
   "cell_type": "code",
   "execution_count": 27,
   "metadata": {},
   "outputs": [
    {
     "data": {
      "text/plain": [
       "(70000, 785)"
      ]
     },
     "execution_count": 27,
     "metadata": {},
     "output_type": "execute_result"
    }
   ],
   "source": [
    "data = torchvision.datasets.MNIST(root='.', download=True)\n",
    "train_data = data.train_data.numpy().reshape(60000, -1)\n",
    "train_labels = data.train_labels.numpy().reshape(60000, -1)\n",
    "\n",
    "data_test = torchvision.datasets.MNIST(root='.', download=True, train=False)\n",
    "test_data = data_test.test_data.numpy().reshape(10000, -1)\n",
    "test_labels = data_test.test_labels.numpy().reshape(10000, -1)\n",
    "\n",
    "data = np.concatenate([train_data, test_data], axis=0)\n",
    "labels = np.concatenate([train_labels, test_labels], axis=0)\n",
    "labels = (labels > 4).astype(float)\n",
    "data = np.concatenate([data, labels], axis=1)\n",
    "\n",
    "data.shape"
   ]
  },
  {
   "cell_type": "code",
   "execution_count": null,
   "metadata": {
    "collapsed": true
   },
   "outputs": [],
   "source": []
  },
  {
   "cell_type": "code",
   "execution_count": 28,
   "metadata": {
    "collapsed": true
   },
   "outputs": [],
   "source": [
    "#df = pd.read_csv('diabetic_data.csv')"
   ]
  },
  {
   "cell_type": "code",
   "execution_count": 41,
   "metadata": {
    "collapsed": true
   },
   "outputs": [],
   "source": [
    "pandas = 0\n",
    "if pandas:\n",
    "    one_hot = ['gender', 'race', 'admission_type_id', 'discharge_disposition_id', 'admission_source_id', \n",
    "               'metformin', 'repaglinide', 'nateglinide',\n",
    "               'chlorpropamide', 'glimepiride', 'acetohexamide', 'glipizide',\n",
    "               'glyburide', 'tolbutamide', 'pioglitazone', 'rosiglitazone', 'acarbose',\n",
    "               'miglitol', 'troglitazone', 'tolazamide', 'examide', 'citoglipton',\n",
    "               'insulin', 'glyburide-metformin', 'glipizide-metformin',\n",
    "               'glimepiride-pioglitazone', 'metformin-rosiglitazone',\n",
    "               'metformin-pioglitazone', 'change', 'diabetesMed',\n",
    "               'A1Cresult','max_glu_serum']\n",
    "    numeric = ['time_in_hospital', 'num_lab_procedures', 'num_procedures',\n",
    "               'num_medications', 'number_outpatient', 'number_emergency',\n",
    "               'number_inpatient', 'number_diagnoses',\n",
    "               'diag_1', 'diag_2', 'diag_3']\n",
    "    first_numeric = ['age']\n",
    "    norm_and_none_and_numeric = ['A1Cresult','max_glu_serum']\n",
    "    numeric_but_confused_about_V_and_E_values = ['diag_1', 'diag_2', 'diag_3', ]\n",
    "    latent = ['patient_nbr']\n",
    "\n",
    "    use_latent = False\n",
    "    Toss_null = True\n",
    "    if Toss_null:\n",
    "        #Throw away columns with too many nulls, throw away rows with nulls afterwards\n",
    "        df = df.loc[:,df.isin(['?']).sum(0) < 15000]\n",
    "        df = df.loc[df.isin(['?']).sum(1) < 1,:]\n",
    "    df = df.astype(str)\n",
    "    data = df.loc[:,'readmitted']\n",
    "    data = data.str.replace('NO', '0').replace('>30', '1').replace('<30', '1').astype(float)\n",
    "    for col in one_hot:\n",
    "        new_data = df.loc[:,col]\n",
    "        if new_data.unique().shape[0] < 2:\n",
    "            continue\n",
    "        if new_data.unique().shape[0] < 3:\n",
    "            new_data = (new_data == new_data.unique()[0]).astype(float)\n",
    "        else:\n",
    "            new_data = pd.get_dummies(new_data)\n",
    "        data = pd.concat((data, new_data), 1)\n",
    "    for col in numeric:\n",
    "        new_data = df.loc[:,col].astype(str)\n",
    "        new_data = new_data.str.replace('None', '0').str.replace('>', '').str.replace('<', '').astype(float)\n",
    "        data = pd.concat((data, new_data), 1)\n",
    "    for col in first_numeric:\n",
    "        new_data = df.loc[:,col].astype(str)\n",
    "        new_data = new_data.str[1:3].str.replace('-','').astype(float)\n",
    "        data = pd.concat((data, new_data), 1)\n",
    "    #Convert data pandas to numpy\n",
    "    data = data.as_matrix()"
   ]
  },
  {
   "cell_type": "code",
   "execution_count": 32,
   "metadata": {},
   "outputs": [
    {
     "name": "stdout",
     "output_type": "stream",
     "text": [
      "data shape (70000, 785)\n"
     ]
    }
   ],
   "source": [
    "#Check the final shape of our in-use dataset\n",
    "print('data shape', data.shape)\n",
    "\n",
    "#Feature shapes\n",
    "num_rows, num_features = data.shape[0], data.shape[1]-1\n",
    "\n",
    "#Select Training rows\n",
    "np.random.seed(0)\n",
    "trn_rows = np.sort(np.random.choice(num_rows, size = int(num_rows * .9), replace = False))\n",
    "\n",
    "#Select Validation rows\n",
    "val_rows = np.setdiff1d(np.arange(num_rows), trn_rows)\n",
    "\n",
    "#Split dataset\n",
    "trn_data, val_data = data[trn_rows,:-1], data[val_rows,:-1]\n",
    "trn_Y, val_Y = data[trn_rows,-1], data[val_rows,-1]\n",
    "\n",
    "#Normalize training and validation based on training data\n",
    "data_mean, data_std = trn_data.mean(0), trn_data.std(0) + 1e-8\n",
    "\n",
    "def normalize_data(data, data_mean, data_std):\n",
    "    normalized = (data - np.expand_dims(data_mean,0)) / np.expand_dims(data_std,0)\n",
    "    return normalized\n",
    "\n",
    "trn_normalized = normalize_data(trn_data, data_mean, data_std)\n",
    "val_normalized = normalize_data(val_data, data_mean, data_std)"
   ]
  },
  {
   "cell_type": "code",
   "execution_count": 33,
   "metadata": {
    "collapsed": true
   },
   "outputs": [],
   "source": [
    "# Code to cleanly swap between Pytorch and Numpy.\n",
    "# Makes PyTorch much more user friendly, but not widely used. \n",
    "# Base code from Andy Gan (Github BarclayII) with some minor additions\n",
    "\n",
    "#Main adjustable flag. Enables or Disable GPU optimizations\n",
    "USE_CUDA = 1\n",
    "\n",
    "def cuda(obj):\n",
    "    if USE_CUDA:\n",
    "        if isinstance(obj, tuple):\n",
    "            return tuple(cuda(o) for o in obj)\n",
    "        elif isinstance(obj, list):\n",
    "            return list(cuda(o) for o in obj)\n",
    "        elif hasattr(obj, 'cuda'):\n",
    "            return obj.cuda()\n",
    "    return obj\n",
    "\n",
    "def tovar(*arrs, **kwargs):\n",
    "    tensors = [(torch.from_numpy(a) if isinstance(a, np.ndarray) else a) for a in arrs]\n",
    "    vars_ = [torch.autograd.Variable(t, **kwargs) for t in tensors]\n",
    "    if USE_CUDA:\n",
    "        vars_ = [v.cuda() for v in vars_]\n",
    "    return vars_[0] if len(vars_) == 1 else vars_\n",
    "\n",
    "\n",
    "def tonumpy(*vars_):\n",
    "    arrs = [(v.data.cpu().numpy() if isinstance(v, torch.autograd.Variable) else\n",
    "             v.cpu().numpy() if torch.is_tensor(v) else v) for v in vars_]\n",
    "    return arrs[0] if len(arrs) == 1 else arrs"
   ]
  },
  {
   "cell_type": "code",
   "execution_count": 34,
   "metadata": {
    "collapsed": true
   },
   "outputs": [],
   "source": [
    "#Build the network in pytorch\n",
    "\n",
    "def init_weights(module):\n",
    "    for name, param in module.named_parameters():\n",
    "        if name.find('weight') != -1:\n",
    "            if len(param.size()) == 1:\n",
    "                init.uniform(param.data, 1)\n",
    "            else:\n",
    "                init.xavier_uniform(param.data)\n",
    "        elif name.find('bias') != -1:\n",
    "            init.constant(param.data, 0)\n",
    "\n",
    "class Identity(nn.Module):\n",
    "    def __init__(self):\n",
    "        nn.Module.__init__(self)\n",
    "\n",
    "    def forward(self, x):\n",
    "        return x\n",
    "\n",
    "class Model(nn.Module):\n",
    "    def __init__(self,num_inputs, hidden_layers, output_fcn = None, lr = 1e-3, polynomial_features = False):\n",
    "        #num_inputs is the number of input feature\n",
    "        #Hidden layers is a list of hidden layer sizes)\n",
    "        #output_fcn should be either 'linear' or 'logistic'\n",
    "        nn.Module.__init__(self)\n",
    "        self.num_inputs = num_inputs\n",
    "        self.output_type = output_fcn\n",
    "        \n",
    "        prev_out_size = num_inputs\n",
    "        self.hidden_layers = nn.ModuleList()\n",
    "        \n",
    "        self.trn_losses = []\n",
    "        self.val_losses = []\n",
    "        self.trn_accs = []\n",
    "        self.val_accs = []\n",
    "        self.relu = nn.LeakyReLU()\n",
    "        self.polynomial_features = polynomial_features\n",
    "        if polynomial_features:\n",
    "            prev_out_size = prev_out_size ** 2\n",
    "        for l in hidden_layers:\n",
    "            self.hidden_layers.append(nn.Linear(prev_out_size, l))\n",
    "            prev_out_size = l\n",
    "        self.output_layer = nn.Linear(prev_out_size, 1)\n",
    "        \n",
    "        if output_fcn == 'linear':\n",
    "            self.output_fcn = Identity()\n",
    "            self.loss_fcn = nn.MSELoss()\n",
    "        elif output_fcn == 'logistic':\n",
    "            self.output_fcn = nn.Sigmoid()\n",
    "            self.loss_fcn = nn.BCELoss()\n",
    "        else:\n",
    "            raise ValueError('output function must be linear or logistic')\n",
    "            \n",
    "        self.optimizer = torch.optim.Adam(self.parameters(), lr = lr, weight_decay = 1e-5)\n",
    "        init_weights(self)\n",
    "        \n",
    "    def forward(self, x):\n",
    "        #x is training data of shape [batch_size, num_inputs]\n",
    "        x = tovar(x).float()\n",
    "        if self.polynomial_features:\n",
    "            rows, cols = x.size()\n",
    "            x_left = x.view((rows, cols, 1))\n",
    "            x_right = x.view((rows, 1, cols))\n",
    "            x = x_left.bmm(x_right).view((rows, cols*cols))\n",
    "        for layer in self.hidden_layers:\n",
    "            x = layer(x)\n",
    "            x = self.relu(x)\n",
    "        out_raw = self.output_layer(x)\n",
    "        return self.output_fcn(out_raw).view(-1)\n",
    "\n",
    "model = Model(num_features, hidden_layers = [], output_fcn = 'linear')\n"
   ]
  },
  {
   "cell_type": "code",
   "execution_count": 35,
   "metadata": {
    "collapsed": true
   },
   "outputs": [],
   "source": [
    "def num_accurate(y_pred, y):\n",
    "    high = ((y_pred > 0.5) * (y == 1)).sum()\n",
    "    low = ((y_pred < 0.5) * (y == 0)).sum()\n",
    "    return high + low\n",
    "\n",
    "def confusion_matrix(y_pred, y):\n",
    "    high = ((y_pred > 0.5) * (y == 1)).sum()\n",
    "    low = ((y_pred < 0.5) * (y == 0)).sum()\n",
    "    confusion_matrix = np.array(\n",
    "        [[low, ((y_pred > 0.5) * (y == 0)).sum()],\n",
    "         [((y_pred < 0.5) * (y == 1)).sum(), high]])\n",
    "    return confusion_matrix\n",
    "\n",
    "def train(epochs = 30, verbosity = 0):\n",
    "    num_epochs = epochs\n",
    "    bs = 64\n",
    "    rows_trn = len(trn_Y)\n",
    "    batches_per_epoch = rows_trn // bs\n",
    "    for epoch in range(num_epochs):\n",
    "        trn_loss = []\n",
    "        trn_acc = [0,0]\n",
    "        order = np.arange(rows_trn)\n",
    "        np.random.shuffle(order)\n",
    "        for itr in range(batches_per_epoch):\n",
    "            rows = order[itr*bs:(itr+1)*bs]\n",
    "            if itr+1 == batches_per_epoch:\n",
    "                rows = order[itr*bs:]\n",
    "            x, y = trn_normalized[rows,:], trn_Y[rows]\n",
    "            \n",
    "            y_pred = model(x)\n",
    "            \n",
    "            loss = model.loss_fcn(y_pred, tovar(y).float())\n",
    "\n",
    "            # Before the backward pass, use the optimizer object to zero all of the \n",
    "            # gradients for the variables it will update (which are the learnable weights of the model)\n",
    "            model.optimizer.zero_grad()\n",
    "\n",
    "            # Backward pass: compute gradient of the loss with respect to model parameters\n",
    "            loss.backward()\n",
    "\n",
    "            # Calling the step function on an Optimizer makes an update to its parameters\n",
    "            model.optimizer.step()\n",
    "            trn_loss.append(tonumpy(loss.data[0]))\n",
    "            y_pred_numpy = tonumpy(y_pred.data.float()).reshape(-1)\n",
    "            trn_acc[0] += num_accurate(y_pred_numpy, y)\n",
    "            trn_acc[1] += len(rows)\n",
    "        if epoch % 1 == 0:\n",
    "            trn_loss = np.mean(trn_loss)\n",
    "            model.trn_losses.append(trn_loss)\n",
    "            y_pred = model(val_normalized)\n",
    "            val_loss = model.loss_fcn(y_pred, tovar(val_Y).float()).data[0]\n",
    "            y_pred_numpy = tonumpy(y_pred.data.float()).reshape(-1)\n",
    "            val_acc = num_accurate(y_pred_numpy, val_Y) / len(val_Y)\n",
    "            trn_acc = trn_acc[0] / trn_acc[1]\n",
    "            if verbosity > 0:\n",
    "                print( 'epoch:', epoch)\n",
    "                print('train loss: ',trn_loss, 'train acc', trn_acc)\n",
    "                print('val loss: ',val_loss, 'val acc', val_acc)\n",
    "                print('confusion matrix')\n",
    "                print(confusion_matrix(y_pred_numpy, val_Y))\n",
    "            trn_loss = []\n",
    "            model.val_losses.append(val_loss)\n",
    "            model.val_accs.append(val_acc)\n",
    "            model.trn_accs.append(trn_acc)\n",
    "def visualize():\n",
    "    print('Best Loss:', min(model.val_losses))\n",
    "    print('Best Acc:', max(model.val_accs))\n",
    "    plt.close()     \n",
    "    plt.plot(model.trn_losses, label='train loss')\n",
    "    plt.plot(model.val_losses, label='val loss')\n",
    "    plt.legend()\n",
    "    plt.title('losses')\n",
    "    plt.show()\n",
    "    plt.figure()\n",
    "    plt.plot(model.trn_accs, label='train acc')\n",
    "    plt.plot(model.val_accs, label='val acc')\n",
    "    plt.legend()\n",
    "    plt.title('accuracies')\n",
    "    plt.show()"
   ]
  },
  {
   "cell_type": "code",
   "execution_count": 36,
   "metadata": {
    "collapsed": true
   },
   "outputs": [],
   "source": [
    "num_epochs = 5"
   ]
  },
  {
   "cell_type": "code",
   "execution_count": 38,
   "metadata": {},
   "outputs": [
    {
     "name": "stdout",
     "output_type": "stream",
     "text": [
      "Best Loss: 0.34518420696258545\n",
      "Best Acc: 0.873142857143\n"
     ]
    },
    {
     "data": {
      "image/png": "[encoded data removed]",
      "text/plain": [
       "<matplotlib.figure.Figure at 0x7f13a309a0b8>"
      ]
     },
     "metadata": {},
     "output_type": "display_data"
    },
    {
     "data": {
      "image/png": "[encoded data removed]",
      "text/plain": [
       "<matplotlib.figure.Figure at 0x7f13a19a0cc0>"
      ]
     },
     "metadata": {},
     "output_type": "display_data"
    }
   ],
   "source": [
    "\n",
    "model = cuda(Model(num_features, hidden_layers = [], output_fcn = 'logistic'))\n",
    "train(epochs = num_epochs, verbosity = 0)\n",
    "visualize()"
   ]
  },
  {
   "cell_type": "code",
   "execution_count": 39,
   "metadata": {},
   "outputs": [
    {
     "name": "stdout",
     "output_type": "stream",
     "text": [
      "Best Loss: 0.09881731122732162\n",
      "Best Acc: 0.976285714286\n"
     ]
    },
    {
     "data": {
      "image/png": "[encoded data removed]",
      "text/plain": [
       "<matplotlib.figure.Figure at 0x7f13a19c4a90>"
      ]
     },
     "metadata": {},
     "output_type": "display_data"
    },
    {
     "data": {
      "image/png": "[encoded data removed]",
      "text/plain": [
       "<matplotlib.figure.Figure at 0x7f13a192aa58>"
      ]
     },
     "metadata": {},
     "output_type": "display_data"
    }
   ],
   "source": [
    "\n",
    "model = cuda(Model(num_features, hidden_layers = [100], output_fcn = 'logistic'))\n",
    "train(epochs = num_epochs, verbosity = 0)\n",
    "visualize()"
   ]
  },
  {
   "cell_type": "code",
   "execution_count": 40,
   "metadata": {},
   "outputs": [
    {
     "name": "stdout",
     "output_type": "stream",
     "text": [
      "Best Loss: 0.06607018411159515\n",
      "Best Acc: 0.982285714286\n"
     ]
    },
    {
     "data": {
      "image/png": "[encoded data removed]",
      "text/plain": [
       "<matplotlib.figure.Figure at 0x7f13a27776a0>"
      ]
     },
     "metadata": {},
     "output_type": "display_data"
    },
    {
     "data": {
      "image/png": "[encoded data removed]",
      "text/plain": [
       "<matplotlib.figure.Figure at 0x7f139fceff60>"
      ]
     },
     "metadata": {},
     "output_type": "display_data"
    }
   ],
   "source": [
    "\n",
    "model = cuda(Model(num_features, hidden_layers = [100, 100], output_fcn = 'logistic'))\n",
    "train(epochs = num_epochs, verbosity = 0)\n",
    "visualize()"
   ]
  },
  {
   "cell_type": "code",
   "execution_count": null,
   "metadata": {
    "collapsed": true
   },
   "outputs": [],
   "source": []
  },
  {
   "cell_type": "code",
   "execution_count": null,
   "metadata": {
    "collapsed": true
   },
   "outputs": [],
   "source": [
    "\n",
    "model = cuda(Model(num_features, hidden_layers = [], output_fcn = 'linear'))\n",
    "train(epochs = num_epochs)\n",
    "visualize()"
   ]
  },
  {
   "cell_type": "code",
   "execution_count": null,
   "metadata": {
    "collapsed": true,
    "scrolled": false
   },
   "outputs": [],
   "source": [
    "\n",
    "model = cuda(Model(num_features, hidden_layers = [], output_fcn = 'logistic'))\n",
    "train(epochs = num_epochs)\n",
    "visualize()"
   ]
  },
  {
   "cell_type": "code",
   "execution_count": null,
   "metadata": {
    "collapsed": true
   },
   "outputs": [],
   "source": [
    "\n",
    "model = cuda(Model(num_features, hidden_layers = [], output_fcn = 'linear', polynomial_features = True))\n",
    "train(epochs = num_epochs)\n",
    "visualize()"
   ]
  },
  {
   "cell_type": "code",
   "execution_count": null,
   "metadata": {
    "collapsed": true
   },
   "outputs": [],
   "source": [
    "\n",
    "model = cuda(Model(num_features, hidden_layers = [], output_fcn = 'logistic', polynomial_features = True))\n",
    "train(epochs = num_epochs)\n",
    "visualize()"
   ]
  },
  {
   "cell_type": "code",
   "execution_count": null,
   "metadata": {
    "collapsed": true,
    "scrolled": false
   },
   "outputs": [],
   "source": [
    "\n",
    "model = cuda(Model(num_features, hidden_layers = [1000], output_fcn = 'linear'))\n",
    "train(epochs=num_epochs*5)\n",
    "visualize()"
   ]
  },
  {
   "cell_type": "code",
   "execution_count": null,
   "metadata": {
    "collapsed": true,
    "scrolled": false
   },
   "outputs": [],
   "source": [
    "\n",
    "model = cuda(Model(num_features, hidden_layers = [1000], output_fcn = 'logistic'))\n",
    "train(epochs=num_epochs*5)\n",
    "visualize()"
   ]
  },
  {
   "cell_type": "code",
   "execution_count": null,
   "metadata": {
    "collapsed": true
   },
   "outputs": [],
   "source": [
    "\n",
    "model = cuda(Model(num_features, hidden_layers = [100, 100], output_fcn = 'linear'))\n",
    "train(epochs=num_epochs*5)\n",
    "visualize()"
   ]
  },
  {
   "cell_type": "code",
   "execution_count": null,
   "metadata": {
    "collapsed": true
   },
   "outputs": [],
   "source": [
    "\n",
    "model = cuda(Model(num_features, hidden_layers = [100, 100], output_fcn = 'logistic'))\n",
    "train(epochs=num_epochs*5)\n",
    "visualize()"
   ]
  },
  {
   "cell_type": "code",
   "execution_count": null,
   "metadata": {
    "collapsed": true
   },
   "outputs": [],
   "source": [
    "\n",
    "model = cuda(Model(num_features, hidden_layers = [1000], output_fcn = 'logistic'))\n",
    "train(epochs=num_epochs * 2)\n",
    "visualize()"
   ]
  },
  {
   "cell_type": "code",
   "execution_count": null,
   "metadata": {
    "collapsed": true
   },
   "outputs": [],
   "source": []
  },
  {
   "cell_type": "code",
   "execution_count": null,
   "metadata": {
    "collapsed": true
   },
   "outputs": [],
   "source": []
  },
  {
   "cell_type": "code",
   "execution_count": null,
   "metadata": {
    "collapsed": true
   },
   "outputs": [],
   "source": []
  },
  {
   "cell_type": "code",
   "execution_count": null,
   "metadata": {
    "collapsed": true
   },
   "outputs": [],
   "source": []
  },
  {
   "cell_type": "code",
   "execution_count": null,
   "metadata": {
    "collapsed": true
   },
   "outputs": [],
   "source": []
  },
  {
   "cell_type": "code",
   "execution_count": null,
   "metadata": {
    "collapsed": true
   },
   "outputs": [],
   "source": []
  }
 ],
 "metadata": {
  "kernelspec": {
   "display_name": "Python 3",
   "language": "python",
   "name": "python3"
  },
  "language_info": {
   "codemirror_mode": {
    "name": "ipython",
    "version": 3
   },
   "file_extension": ".py",
   "mimetype": "text/x-python",
   "name": "python",
   "nbconvert_exporter": "python",
   "pygments_lexer": "ipython3",
   "version": "3.6.2"
  }
 },
 "nbformat": 4,
 "nbformat_minor": 2
}
